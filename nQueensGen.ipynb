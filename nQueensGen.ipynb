{
 "cells": [
  {
   "cell_type": "markdown",
   "id": "02e91bfb",
   "metadata": {},
   "source": [
    "# n-Queens in python"
   ]
  },
  {
   "cell_type": "code",
   "execution_count": null,
   "id": "f216f5bf",
   "metadata": {
    "scrolled": true
   },
   "outputs": [],
   "source": [
    "from tkinter import *\n",
    "import numpy\n",
    "import random\n",
    "import time\n",
    "from threading import Thread\n",
    "import os\n",
    "import tkinter.font as TkFont\n"
   ]
  },
  {
   "cell_type": "code",
   "execution_count": null,
   "id": "a586b3bb",
   "metadata": {},
   "outputs": [],
   "source": [
    "window = Tk()\n",
    "window_width = 750\n",
    "window_height = 750\n",
    "board_size = 20\n",
    "space_width = window_width / board_size\n",
    "space_height = window_height / board_size\n",
    "\n",
    "\n",
    "window.wm_geometry(f\"{window_width}x{window_height}\")\n",
    "window.title(\"Chess Board\")\n",
    "window.resizable(False, False)\n",
    "\n",
    "canvas = Canvas(window, width=window_width, height=window_height)\n",
    "canvas.pack()\n",
    "\n",
    "current_best = [0]*board_size\n",
    "perfect_board = None\n",
    "final_boards = None\n",
    "max_children = 100 # Has to be an even value (I just didn't fix it)"
   ]
  },
  {
   "cell_type": "code",
   "execution_count": null,
   "id": "4bcf0efe",
   "metadata": {},
   "outputs": [],
   "source": [
    "class Board:\n",
    "    def __init__(self, size=5, square_size_x=50, square_size_y=50):\n",
    "        self.size = size\n",
    "        self.square_size_x = square_size_x\n",
    "        self.square_size_y = square_size_y\n",
    "        self.color1 = \"#DDDDDD\"\n",
    "        self.color2 = \"#000000\"\n",
    "        self.letters = [[None for _ in range(self.size)] for _ in range(self.size)]\n",
    "        self.board = [[None for _ in range(self.size)] for _ in range(self.size)]\n",
    "        self.create_board()\n",
    "\n",
    "    def set_board(self, states):\n",
    "        for i in range(self.size):\n",
    "            for j in range(self.size):\n",
    "                if self.letters[j][i] != None:\n",
    "                    canvas.delete(self.letters[j][i])\n",
    "        self.letters = [[None for _ in range(self.size)] for _ in range(self.size)]\n",
    "        for i in range(len(states)):\n",
    "            self.set_letter(states[i], i, \"♕\")\n",
    "\n",
    "    def create_board(self):\n",
    "        canvas.delete(\"all\")\n",
    "        for row in range(self.size):\n",
    "            for col in range(self.size):\n",
    "                x1 = col * self.square_size_x\n",
    "                y1 = row * self.square_size_y\n",
    "                x2 = x1 + self.square_size_x\n",
    "                y2 = y1 + self.square_size_y\n",
    "                color = self.color1 if (row + col) % 2 == 0 else self.color2\n",
    "                cell = canvas.create_rectangle(x1, y1, x2, y2, fill=color, outline=\"\")\n",
    "                self.board[row][col] = cell;\n",
    "        \n",
    "    def set_letter(self, row, col, letter):\n",
    "        if self.letters[row][col] != None:\n",
    "            canvas.delete(self.letters[row][col])\n",
    "            del self.letters[row][col]\n",
    "        x1 = col * self.square_size_x\n",
    "        y1 = row * self.square_size_y\n",
    "        x2 = x1 + self.square_size_x\n",
    "        y2 = y1 + self.square_size_y\n",
    "        x_center = (x1 + x2) / 2\n",
    "        y_center = (y1 + y2) / 2\n",
    "        self.letters[row][col] = canvas.create_text(x_center, y_center, font=(\"Courier\", int(44 * space_height / 100)), text=letter,\n",
    "                                                    fill=\"#000000\" if (row + col) % 2 == 0 else \"#FFFFFF\")"
   ]
  },
  {
   "cell_type": "markdown",
   "id": "56a44aa8",
   "metadata": {},
   "source": [
    "`fitness_function` is used to determite the score of the board from 0 to 1 (1 being the perfect board without any conflicts)"
   ]
  },
  {
   "cell_type": "code",
   "execution_count": null,
   "id": "55fd8f6e",
   "metadata": {},
   "outputs": [],
   "source": [
    "def fitness_function(positions):\n",
    "    conflicts = 0\n",
    "    n = len(positions)\n",
    "    for i in range(n):\n",
    "        for j in range(i + 1, n):\n",
    "            if positions[i] == positions[j] or \\\n",
    "                    positions[i] + i == positions[j] + j or \\\n",
    "                    positions[i] - i == positions[j] - j:\n",
    "                conflicts += 1\n",
    "\n",
    "    fitness_score = 1.0 / (1.0 + conflicts)\n",
    "    return fitness_score"
   ]
  },
  {
   "cell_type": "markdown",
   "id": "a17e85a3",
   "metadata": {},
   "source": [
    "`get_random_board` returns a list of board positions for every queen on a board. The index functions as a col and the value functions as row (e.g. [4,6,3,7,2,4,5])"
   ]
  },
  {
   "cell_type": "code",
   "execution_count": null,
   "id": "f0b3819f",
   "metadata": {},
   "outputs": [],
   "source": [
    "def get_random_board(size):\n",
    "    return [random.randint(0, size - 1) for _ in range(board_size)]"
   ]
  },
  {
   "cell_type": "markdown",
   "id": "16749e92",
   "metadata": {},
   "source": [
    "`evaluate_boards` calls the fitness_function for all the boards in the list"
   ]
  },
  {
   "cell_type": "code",
   "execution_count": null,
   "id": "84dcc370",
   "metadata": {},
   "outputs": [],
   "source": [
    "def evaluate_boards(boards):\n",
    "    return [fitness_function(i) for i in boards]"
   ]
  },
  {
   "cell_type": "markdown",
   "id": "619d6afa",
   "metadata": {},
   "source": [
    "`choose_weighted_random_index` returns a random index based on weights (pretty self explanatory)"
   ]
  },
  {
   "cell_type": "code",
   "execution_count": null,
   "id": "eae05ee0",
   "metadata": {},
   "outputs": [],
   "source": [
    "def choose_weighted_random_index(numbers):\n",
    "    total = sum(numbers)\n",
    "    weighted_numbers = [(number / total) for number in numbers]\n",
    "    index = random.choices(range(len(numbers)), weights=weighted_numbers)[0]\n",
    "    return index"
   ]
  },
  {
   "cell_type": "markdown",
   "id": "fd644383",
   "metadata": {},
   "source": [
    "`mutate_board` has a chances parts of the board at random"
   ]
  },
  {
   "cell_type": "code",
   "execution_count": null,
   "id": "891a0126",
   "metadata": {},
   "outputs": [],
   "source": [
    "def mutate_board(_board):\n",
    "    size = len(_board)\n",
    "    for i in _board:\n",
    "        if random.random() < 0.003:\n",
    "            _board[i] = random.randint(0, size - 1)\n"
   ]
  },
  {
   "cell_type": "markdown",
   "id": "790c2a9b",
   "metadata": {},
   "source": [
    "`cutter` is a function that gets a list of boards and cuts them in half while fusing them with the next board in the list. \n",
    "e.g. `453456` and `367342` make `453342` and `367456`"
   ]
  },
  {
   "cell_type": "code",
   "execution_count": null,
   "id": "ef9bf783",
   "metadata": {},
   "outputs": [],
   "source": [
    "def cut(b1,b2,ratio):\n",
    "    return [b1[i] if i > ratio else b2[i] for i in range(board_size)]\n",
    "\n",
    "def cutter(_boards):\n",
    "    children = []\n",
    "    for i in range(0,len(_boards),2):\n",
    "        children.append(cut(_boards[i],_boards[i+1],board_size/2))\n",
    "        children.append(cut(_boards[i+1], _boards[i], board_size/2))\n",
    "    return children\n"
   ]
  },
  {
   "cell_type": "code",
   "execution_count": null,
   "id": "7e33f961",
   "metadata": {},
   "outputs": [],
   "source": [
    "def best_board(_boards):\n",
    "    best = 0\n",
    "    for i in range(1,len(_boards)):\n",
    "        if _boards[best] < _boards[i]:\n",
    "            best = i\n",
    "    return best\n"
   ]
  },
  {
   "cell_type": "markdown",
   "id": "a64820b2",
   "metadata": {},
   "source": [
    "`get_perfect` starts off with a `max_children` amount of random boards and evaluates them. After that a new set of boards are created from the last set's boards (chosen randomly based on their evaluation) with cutting and mutating. "
   ]
  },
  {
   "cell_type": "code",
   "execution_count": null,
   "id": "63f87945",
   "metadata": {},
   "outputs": [],
   "source": [
    "def get_perfect():\n",
    "    global current_best\n",
    "    global perfect_board\n",
    "    global final_boards\n",
    "    all_boards = [get_random_board(board_size) for _ in range(max_children)]\n",
    "    evaluated = [0]\n",
    "    best = 0\n",
    "    survivors = []\n",
    "\n",
    "    while evaluated[best] != 1:\n",
    "        del survivors\n",
    "        del evaluated\n",
    "        evaluated = evaluate_boards(all_boards)\n",
    "        best = best_board(evaluated)\n",
    "        current_best = all_boards[best]\n",
    "        if evaluated[best] == 1:\n",
    "            break\n",
    "        survivors = [all_boards[choose_weighted_random_index(evaluated)] for _ in range(max_children)]\n",
    "        for i in survivors:\n",
    "            mutate_board(i)\n",
    "        all_boards = survivors[:]\n",
    "        all_boards = cutter(all_boards)\n",
    "        \n",
    "       \n",
    "        \n",
    "\n",
    "    print(\"Done\",best,all_boards[best],fitness_function(all_boards[best]))\n",
    "    final_boards = all_boards\n",
    "    perfect_board = all_boards[best]"
   ]
  },
  {
   "cell_type": "code",
   "execution_count": null,
   "id": "fd2e3cac",
   "metadata": {},
   "outputs": [],
   "source": [
    "board = Board(size=board_size, square_size_x=space_width, square_size_y=space_height)"
   ]
  },
  {
   "cell_type": "markdown",
   "id": "68f03151",
   "metadata": {},
   "source": [
    "`update` periodically prints the best board in the set"
   ]
  },
  {
   "cell_type": "code",
   "execution_count": null,
   "id": "a583dc93",
   "metadata": {},
   "outputs": [],
   "source": [
    "def update():\n",
    "    board.set_board(current_best)\n",
    "    print(fitness_function(current_best))\n",
    "    if fitness_function(current_best) == 1:\n",
    "        board.set_board(perfect_board)\n",
    "        return\n",
    "    window.after(1000,update)\n"
   ]
  },
  {
   "cell_type": "code",
   "execution_count": null,
   "id": "d717a416",
   "metadata": {},
   "outputs": [],
   "source": [
    "update()\n",
    "window_thread = Thread(target=get_perfect, args=())\n",
    "window_thread.start()\n",
    "window.mainloop()"
   ]
  }
 ],
 "metadata": {
  "kernelspec": {
   "display_name": "Python 3 (ipykernel)",
   "language": "python",
   "name": "python3"
  },
  "language_info": {
   "codemirror_mode": {
    "name": "ipython",
    "version": 3
   },
   "file_extension": ".py",
   "mimetype": "text/x-python",
   "name": "python",
   "nbconvert_exporter": "python",
   "pygments_lexer": "ipython3",
   "version": "3.9.13"
  }
 },
 "nbformat": 4,
 "nbformat_minor": 5
}
